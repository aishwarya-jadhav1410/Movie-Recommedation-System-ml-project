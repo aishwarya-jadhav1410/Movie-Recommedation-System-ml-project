{
 "cells": [
  {
   "cell_type": "code",
   "execution_count": 1,
   "id": "0288420b-c1dd-4bda-b98c-8462fe141499",
   "metadata": {},
   "outputs": [],
   "source": [
    "import numpy as np \n",
    "import pandas as pd\n",
    "import warnings \n",
    "warnings.filterwarnings('ignore')"
   ]
  },
  {
   "cell_type": "code",
   "execution_count": 2,
   "id": "b537e311-3e62-4b6d-babd-06045572854b",
   "metadata": {},
   "outputs": [],
   "source": [
    "movies = pd.read_csv(\"tmdb_5000_movies.csv\")\n",
    "credits = pd.read_csv(\"tmdb_5000_credits.csv\")"
   ]
  },
  {
   "cell_type": "code",
   "execution_count": 3,
   "id": "d2c65157-e62f-4fb9-99a4-16f8ecc6b2df",
   "metadata": {},
   "outputs": [
    {
     "name": "stdout",
     "output_type": "stream",
     "text": [
      "<class 'pandas.core.frame.DataFrame'>\n",
      "RangeIndex: 4803 entries, 0 to 4802\n",
      "Data columns (total 20 columns):\n",
      " #   Column                Non-Null Count  Dtype  \n",
      "---  ------                --------------  -----  \n",
      " 0   budget                4803 non-null   int64  \n",
      " 1   genres                4803 non-null   object \n",
      " 2   homepage              1712 non-null   object \n",
      " 3   id                    4803 non-null   int64  \n",
      " 4   keywords              4803 non-null   object \n",
      " 5   original_language     4803 non-null   object \n",
      " 6   original_title        4803 non-null   object \n",
      " 7   overview              4800 non-null   object \n",
      " 8   popularity            4803 non-null   float64\n",
      " 9   production_companies  4803 non-null   object \n",
      " 10  production_countries  4803 non-null   object \n",
      " 11  release_date          4802 non-null   object \n",
      " 12  revenue               4803 non-null   int64  \n",
      " 13  runtime               4801 non-null   float64\n",
      " 14  spoken_languages      4803 non-null   object \n",
      " 15  status                4803 non-null   object \n",
      " 16  tagline               3959 non-null   object \n",
      " 17  title                 4803 non-null   object \n",
      " 18  vote_average          4803 non-null   float64\n",
      " 19  vote_count            4803 non-null   int64  \n",
      "dtypes: float64(3), int64(4), object(13)\n",
      "memory usage: 750.6+ KB\n"
     ]
    }
   ],
   "source": [
    "movies.info()"
   ]
  },
  {
   "cell_type": "code",
   "execution_count": 4,
   "id": "072795e1-28d5-473b-9908-98e43e4bceab",
   "metadata": {},
   "outputs": [
    {
     "name": "stdout",
     "output_type": "stream",
     "text": [
      "<class 'pandas.core.frame.DataFrame'>\n",
      "RangeIndex: 4803 entries, 0 to 4802\n",
      "Data columns (total 4 columns):\n",
      " #   Column    Non-Null Count  Dtype \n",
      "---  ------    --------------  ----- \n",
      " 0   movie_id  4803 non-null   int64 \n",
      " 1   title     4803 non-null   object\n",
      " 2   cast      4803 non-null   object\n",
      " 3   crew      4803 non-null   object\n",
      "dtypes: int64(1), object(3)\n",
      "memory usage: 150.2+ KB\n"
     ]
    }
   ],
   "source": [
    "credits.info()"
   ]
  },
  {
   "cell_type": "code",
   "execution_count": 5,
   "id": "99ba56ae-e9f0-465c-9118-b870bb3944a0",
   "metadata": {},
   "outputs": [],
   "source": [
    "merged_df = pd.merge(movies, credits, left_on=\"id\", right_on=\"movie_id\", how=\"inner\")"
   ]
  },
  {
   "cell_type": "code",
   "execution_count": 6,
   "id": "669b9d22-1d79-4942-bcda-3a9b424f33ee",
   "metadata": {},
   "outputs": [
    {
     "data": {
      "text/plain": [
       "(4803, 24)"
      ]
     },
     "execution_count": 6,
     "metadata": {},
     "output_type": "execute_result"
    }
   ],
   "source": [
    "merged_df.shape"
   ]
  },
  {
   "cell_type": "code",
   "execution_count": 7,
   "id": "b5409a54-0b19-4787-a290-332b59a3e6cf",
   "metadata": {},
   "outputs": [],
   "source": [
    "new_df = merged_df[['id', 'genres', 'keywords', 'overview', 'title_x', 'cast', 'crew', 'production_companies']]"
   ]
  },
  {
   "cell_type": "code",
   "execution_count": 8,
   "id": "4e10e748-93be-4bc4-87b4-22c7584ba84b",
   "metadata": {},
   "outputs": [],
   "source": [
    "new_df = new_df.rename(columns = {'title_x':'title'})"
   ]
  },
  {
   "cell_type": "code",
   "execution_count": 9,
   "id": "53aac8ed-5c76-46e5-ad02-f7f7ae04dfab",
   "metadata": {},
   "outputs": [],
   "source": [
    "import ast\n",
    "def get_names(obj):\n",
    "    x = ast.literal_eval(obj)\n",
    "    keywords = []\n",
    "    for r in x:\n",
    "        name = r[\"name\"].replace(\" \", \"_\").lower().strip()\n",
    "        if name not in keywords:\n",
    "            keywords.append(name)\n",
    "    return \",\".join(keywords)"
   ]
  },
  {
   "cell_type": "code",
   "execution_count": 10,
   "id": "e08d725e-7344-4f1c-9fa0-8641c4b4cfe7",
   "metadata": {},
   "outputs": [],
   "source": [
    "new_df[\"genres\"] = new_df[\"genres\"].apply(get_names)"
   ]
  },
  {
   "cell_type": "code",
   "execution_count": 11,
   "id": "f100fb4d-5357-431e-a5c7-dfb6c998c8d7",
   "metadata": {},
   "outputs": [],
   "source": [
    "new_df[\"keyword\"] = new_df[\"keywords\"].apply(get_names)"
   ]
  },
  {
   "cell_type": "code",
   "execution_count": 12,
   "id": "333cf47b-b2ae-4c3f-a07e-d74891e792d7",
   "metadata": {},
   "outputs": [],
   "source": [
    "new_df[\"cast\"] = new_df[\"cast\"].apply(get_names)\n"
   ]
  },
  {
   "cell_type": "code",
   "execution_count": 13,
   "id": "237d96c4-f08f-4276-b0b2-9b716559a0d0",
   "metadata": {},
   "outputs": [],
   "source": [
    "new_df[\"crew\"] = new_df[\"crew\"].apply(get_names)"
   ]
  },
  {
   "cell_type": "code",
   "execution_count": 14,
   "id": "cda44321-2e02-41d8-86a1-2b432845d54f",
   "metadata": {},
   "outputs": [],
   "source": [
    "new_df[\"production_companies\"] = new_df[\"production_companies\"].apply(get_names)"
   ]
  },
  {
   "cell_type": "code",
   "execution_count": 16,
   "id": "b03c74bc-746c-47ed-8ee4-ffbe7b193880",
   "metadata": {},
   "outputs": [],
   "source": [
    "new_df = new_df.drop('keyword', axis=1)"
   ]
  },
  {
   "cell_type": "code",
   "execution_count": 18,
   "id": "48824778-b8c6-4dcf-b3dc-8312b1872ddc",
   "metadata": {},
   "outputs": [
    {
     "name": "stdout",
     "output_type": "stream",
     "text": [
      "<class 'pandas.core.frame.DataFrame'>\n",
      "RangeIndex: 4803 entries, 0 to 4802\n",
      "Data columns (total 8 columns):\n",
      " #   Column                Non-Null Count  Dtype \n",
      "---  ------                --------------  ----- \n",
      " 0   id                    4803 non-null   int64 \n",
      " 1   genres                4803 non-null   object\n",
      " 2   keywords              4803 non-null   object\n",
      " 3   overview              4800 non-null   object\n",
      " 4   title                 4803 non-null   object\n",
      " 5   cast                  4803 non-null   object\n",
      " 6   crew                  4803 non-null   object\n",
      " 7   production_companies  4803 non-null   object\n",
      "dtypes: int64(1), object(7)\n",
      "memory usage: 300.3+ KB\n"
     ]
    }
   ],
   "source": [
    "new_df.info()"
   ]
  },
  {
   "cell_type": "code",
   "execution_count": 20,
   "id": "8e016170-30d7-4315-bef4-92476309fb85",
   "metadata": {},
   "outputs": [],
   "source": [
    "new_df[\"overview\"] = new_df[\"overview\"].apply(lambda x:str(x).replace(\",\", \"\").replace(\" \", \",\").lower())\n"
   ]
  },
  {
   "cell_type": "code",
   "execution_count": 22,
   "id": "78e78572-e284-405d-a9d3-43ddf434d903",
   "metadata": {},
   "outputs": [
    {
     "name": "stdout",
     "output_type": "stream",
     "text": [
      "<class 'pandas.core.frame.DataFrame'>\n",
      "RangeIndex: 4803 entries, 0 to 4802\n",
      "Data columns (total 8 columns):\n",
      " #   Column                Non-Null Count  Dtype \n",
      "---  ------                --------------  ----- \n",
      " 0   id                    4803 non-null   int64 \n",
      " 1   genres                4803 non-null   object\n",
      " 2   keywords              4803 non-null   object\n",
      " 3   overview              4803 non-null   object\n",
      " 4   title                 4803 non-null   object\n",
      " 5   cast                  4803 non-null   object\n",
      " 6   crew                  4803 non-null   object\n",
      " 7   production_companies  4803 non-null   object\n",
      "dtypes: int64(1), object(7)\n",
      "memory usage: 300.3+ KB\n"
     ]
    }
   ],
   "source": [
    "new_df.info()"
   ]
  },
  {
   "cell_type": "code",
   "execution_count": 24,
   "id": "7c500f96-2142-46a6-9458-86bb4a96af08",
   "metadata": {},
   "outputs": [],
   "source": [
    "new_df[\"tags\"] = new_df[\"genres\"] + \",\" + new_df[\"keywords\"] + \",\" + new_df[\"overview\"] + \",\" + new_df[\"cast\"] + \",\" + new_df[\"crew\"] + new_df[\"production_companies\"]"
   ]
  },
  {
   "cell_type": "code",
   "execution_count": 26,
   "id": "1cd47548-b35f-42bd-9d87-745884c3c276",
   "metadata": {},
   "outputs": [],
   "source": [
    "final_df = new_df[[\"id\", \"title\", \"tags\"]]"
   ]
  },
  {
   "cell_type": "code",
   "execution_count": 28,
   "id": "4c76bb0b-5724-49b6-9053-0f834e77d233",
   "metadata": {},
   "outputs": [],
   "source": [
    "final_df.dropna(inplace = True)"
   ]
  },
  {
   "cell_type": "code",
   "execution_count": 30,
   "id": "33085300-fe77-401a-8381-5de91f155b2e",
   "metadata": {},
   "outputs": [],
   "source": [
    "final_df.drop_duplicates(inplace = True)"
   ]
  },
  {
   "cell_type": "code",
   "execution_count": 32,
   "id": "62aab2ae-27d3-4660-ba1d-ba358c842f76",
   "metadata": {},
   "outputs": [
    {
     "name": "stderr",
     "output_type": "stream",
     "text": [
      "[nltk_data] Downloading package stopwords to\n",
      "[nltk_data]     C:\\Users\\Asus\\AppData\\Roaming\\nltk_data...\n",
      "[nltk_data]   Unzipping corpora\\stopwords.zip.\n",
      "[nltk_data] Downloading package punkt to\n",
      "[nltk_data]     C:\\Users\\Asus\\AppData\\Roaming\\nltk_data...\n",
      "[nltk_data]   Unzipping tokenizers\\punkt.zip.\n",
      "[nltk_data] Downloading package punkt_tab to\n",
      "[nltk_data]     C:\\Users\\Asus\\AppData\\Roaming\\nltk_data...\n",
      "[nltk_data]   Unzipping tokenizers\\punkt_tab.zip.\n"
     ]
    },
    {
     "data": {
      "text/plain": [
       "True"
      ]
     },
     "execution_count": 32,
     "metadata": {},
     "output_type": "execute_result"
    }
   ],
   "source": [
    "#remove stopwords\n",
    "import nltk\n",
    "from nltk.corpus import stopwords\n",
    "from nltk.tokenize import word_tokenize\n",
    "# Download stopwords if not already available\n",
    "nltk.download('stopwords')\n",
    "nltk.download('punkt')\n",
    "nltk.download('punkt_tab')"
   ]
  },
  {
   "cell_type": "code",
   "execution_count": 34,
   "id": "9ef6aee3-6e1c-4f67-b3dd-5a67ad723a5c",
   "metadata": {},
   "outputs": [],
   "source": [
    "def remove_stop_words(text):\n",
    "    # Get the English stopwords list\n",
    "    stop_words = set(stopwords.words('english'))\n",
    "    # Tokenize the sentence\n",
    "    words = text.split(',')\n",
    "    # Remove stopwords\n",
    "    filtered_words = [word for word in words if word.lower() not in stop_words]\n",
    "    # # Convert back to string\n",
    "    filtered_text = \",\".join(filtered_words)\n",
    "    return filtered_text"
   ]
  },
  {
   "cell_type": "code",
   "execution_count": 36,
   "id": "52d06e83-7e00-448d-9b54-fd831eccb017",
   "metadata": {},
   "outputs": [],
   "source": [
    "final_df[\"tags\"] = final_df[\"tags\"].apply(remove_stop_words)"
   ]
  },
  {
   "cell_type": "code",
   "execution_count": 38,
   "id": "2754dbf8-994d-4904-a35d-42b24c05186d",
   "metadata": {},
   "outputs": [],
   "source": [
    "final_df.to_csv(\"cleaned_data.csv\")"
   ]
  },
  {
   "cell_type": "code",
   "execution_count": null,
   "id": "6d97f8d6-7d95-4dcf-a404-6e0528419595",
   "metadata": {},
   "outputs": [],
   "source": []
  }
 ],
 "metadata": {
  "kernelspec": {
   "display_name": "Python [conda env:base] *",
   "language": "python",
   "name": "conda-base-py"
  },
  "language_info": {
   "codemirror_mode": {
    "name": "ipython",
    "version": 3
   },
   "file_extension": ".py",
   "mimetype": "text/x-python",
   "name": "python",
   "nbconvert_exporter": "python",
   "pygments_lexer": "ipython3",
   "version": "3.12.7"
  }
 },
 "nbformat": 4,
 "nbformat_minor": 5
}
